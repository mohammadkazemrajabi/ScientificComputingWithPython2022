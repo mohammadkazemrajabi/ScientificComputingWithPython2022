{
  "nbformat": 4,
  "nbformat_minor": 0,
  "metadata": {
    "colab": {
      "provenance": []
    },
    "kernelspec": {
      "name": "python3",
      "display_name": "Python 3"
    },
    "language_info": {
      "name": "python"
    }
  },
  "cells": [
    {
      "cell_type": "code",
      "execution_count": 25,
      "metadata": {
        "id": "e2AQRgDPGaWp"
      },
      "outputs": [],
      "source": [
        "import math\n",
        "import numpy as np\n",
        "import pandas as pd\n",
        "import seaborn as sns\n",
        "import matplotlib.pyplot as plt\n",
        "%matplotlib inline\n",
        "from scipy import optimize, stats"
      ]
    },
    {
      "cell_type": "markdown",
      "source": [
        "ex1"
      ],
      "metadata": {
        "id": "uUedzEnxG5gt"
      }
    },
    {
      "cell_type": "code",
      "source": [
        "mu = 6.3\n",
        "X = 15 \n",
        "from scipy.stats import poisson\n",
        "n = poisson.rvs(6.3, size = 100 , random_state = 0)\n",
        "sig = math.sqrt(np.mean(n))\n",
        "y = mu - X"
      ],
      "metadata": {
        "id": "KU1QCUhsG3mF"
      },
      "execution_count": 26,
      "outputs": []
    },
    {
      "cell_type": "code",
      "source": [
        "Z = abs(X - mu) / sig"
      ],
      "metadata": {
        "id": "JT-uTpYpHAtU"
      },
      "execution_count": 27,
      "outputs": []
    },
    {
      "cell_type": "code",
      "source": [
        "p = stats.norm.cdf(-Z) + (1. - stats.norm.cdf(Z))\n",
        "print(p)"
      ],
      "metadata": {
        "colab": {
          "base_uri": "https://localhost:8080/"
        },
        "id": "cirHfzBBHDXP",
        "outputId": "ab8eecc2-64be-4378-c7c7-283fec33d2c5"
      },
      "execution_count": 28,
      "outputs": [
        {
          "output_type": "stream",
          "name": "stdout",
          "text": [
            "0.00044636687025364455\n"
          ]
        }
      ]
    },
    {
      "cell_type": "markdown",
      "source": [],
      "metadata": {
        "id": "8cL3XI4fI0G6"
      }
    },
    {
      "cell_type": "code",
      "source": [
        "\n",
        "if (p < 0.05 ):\n",
        "  print('reject')\n",
        "  print(\"less than 15 hurricances\")\n",
        "else:\n",
        "  print(\"accept\")\n",
        "Probability = 1 - stats.poisson.cdf(k = 14, mu = mu)\n",
        "print(\"p(15)\" , Probability)"
      ],
      "metadata": {
        "colab": {
          "base_uri": "https://localhost:8080/"
        },
        "id": "a6VP16ZqHNvB",
        "outputId": "a93eaa93-6f3a-46c2-a15c-47a243408bd6"
      },
      "execution_count": 29,
      "outputs": [
        {
          "output_type": "stream",
          "name": "stdout",
          "text": [
            "reject\n",
            "less than 15 hurricances\n",
            "p(15) 0.002217122790073134\n"
          ]
        }
      ]
    },
    {
      "cell_type": "code",
      "source": [
        "pre = np.array([120, 132, 120, 110, 115, 128, 120, 112, 110, 100])\n",
        "post = np.array([140, 156, 145, 130, 117, 148, 137, 119, 127, 135])\n",
        "Mean1 = mu  = np.mean(pre)  \n",
        "Mean2 = np.mean(post) \n",
        "print(Mean1, Mean2)\n",
        "Sigma1 = np.sqrt(np.var(pre, ddof = 1))\n",
        "Sigma2 = np.sqrt(np.var(post, ddof = 1))\n",
        "sum = np.sqrt((Sigma1 + Sigma2) / 2)\n",
        "T = abs(Mean1 - Mean2) / sum * np.sqrt(2 / len(pre))\n",
        "print( T)\n",
        "p = stats.t.cdf(T, len(pre) - 1) + (1. - stats.t.cdf(-T, len(pre) - 1))\n",
        "print(\"p-value =\", p)\n",
        "if (p < 0.05 ):\n",
        "  print('reject')\n",
        "  print(\"less than 15 hurricances\")\n",
        "else:\n",
        "  print(\"accept\")"
      ],
      "metadata": {
        "colab": {
          "base_uri": "https://localhost:8080/"
        },
        "id": "Uxuax2WuI7Jx",
        "outputId": "c20c9d7c-497e-4ee3-a381-ebc68c87059d"
      },
      "execution_count": 34,
      "outputs": [
        {
          "output_type": "stream",
          "name": "stdout",
          "text": [
            "116.7 135.4\n",
            "2.5296631051201133\n",
            "p-value = 1.9677468045757531\n",
            "accept\n"
          ]
        }
      ]
    },
    {
      "cell_type": "markdown",
      "source": [
        "ex3"
      ],
      "metadata": {
        "id": "VQUEr9tWUAdA"
      }
    },
    {
      "cell_type": "code",
      "source": [
        "\n",
        "plt.plot(np.arange(12), [17, 19, 21, 28, 33, 38, 37, 37, 31, 23, 19, 18] ,\"r\")\n",
        "plt.plot(np.arange(12), [-62, -59, -56, -46, -32, -18, -9, -13, -25, -46, -52, -58] , \"b\")\n",
        "plt.xlabel(\"month\")\n",
        "plt.ylabel(\"emperature\")"
      ],
      "metadata": {
        "colab": {
          "base_uri": "https://localhost:8080/",
          "height": 297
        },
        "id": "pFn6U6mvUBVX",
        "outputId": "97a2bbd9-7c67-4a95-d2cc-9477d232f00f"
      },
      "execution_count": 39,
      "outputs": [
        {
          "output_type": "execute_result",
          "data": {
            "text/plain": [
              "Text(0, 0.5, 'emperature')"
            ]
          },
          "metadata": {},
          "execution_count": 39
        },
        {
          "output_type": "display_data",
          "data": {
            "text/plain": [
              "<Figure size 432x288 with 1 Axes>"
            ],
            "image/png": "[encoded data removed]"
          },
          "metadata": {
            "needs_background": "light"
          }
        }
      ]
    },
    {
      "cell_type": "code",
      "source": [
        "import math\n",
        "import scipy\n",
        "def calculate(r,t, x0, sigma,q): \n",
        "        return (q + q/0.004) + t * np.exp(-(2 * r - x0) ** 2 / (2 * math.pow(sigma , 2)))\n",
        "m=np.arange(12)\n",
        "plt.scatter(np.arange(0,len(m)) , max)\n",
        "plt.scatter(np.arange(0,len(m)) , min )\n",
        "Max ,_ = scipy.optimize.curve_fit(calculate , np.arange(0,len(m)) , max)\n",
        "Min,_ = scipy.optimize.curve_fit(calculate , np.arange(0,len(m)) , min)\n",
        "x = np.linspace(0 , 20 , 100)\n",
        "plt.plot(x , calculate(x , Max[0] , Max[1] , Max[2] , Max[3]), color = \"g\")\n",
        "plt.plot(x , calculate(x , Min[0] , Min[1] , Min[2] , Min[3]) , color = \"g\")"
      ],
      "metadata": {
        "colab": {
          "base_uri": "https://localhost:8080/",
          "height": 283
        },
        "id": "Ny4MtGhcUfe7",
        "outputId": "7ac2dbc9-e38b-4edb-b382-d156edb60824"
      },
      "execution_count": 51,
      "outputs": [
        {
          "output_type": "execute_result",
          "data": {
            "text/plain": [
              "[<matplotlib.lines.Line2D at 0x7fcd173387c0>]"
            ]
          },
          "metadata": {},
          "execution_count": 51
        },
        {
          "output_type": "display_data",
          "data": {
            "text/plain": [
              "<Figure size 432x288 with 1 Axes>"
            ],
            "image/png": "[encoded data removed]"
          },
          "metadata": {
            "needs_background": "light"
          }
        }
      ]
    },
    {
      "cell_type": "markdown",
      "source": [
        "ex4"
      ],
      "metadata": {
        "id": "pk6TuJR3W12P"
      }
    },
    {
      "cell_type": "code",
      "source": [
        "!wget https://www.dropbox.com/s/3uqleyc3wyz52tr/residuals_261.pkl -P data/"
      ],
      "metadata": {
        "colab": {
          "base_uri": "https://localhost:8080/"
        },
        "id": "kSl3Rp-rW2tv",
        "outputId": "f69f0970-1f9c-4254-f3fa-af8adb1c793a"
      },
      "execution_count": 52,
      "outputs": [
        {
          "output_type": "stream",
          "name": "stdout",
          "text": [
            "--2023-01-19 23:27:03--  https://www.dropbox.com/s/3uqleyc3wyz52tr/residuals_261.pkl\n",
            "Resolving www.dropbox.com (www.dropbox.com)... 162.125.1.18, 2620:100:6016:18::a27d:112\n",
            "Connecting to www.dropbox.com (www.dropbox.com)|162.125.1.18|:443... connected.\n",
            "HTTP request sent, awaiting response... 302 Found\n",
            "Location: /s/raw/3uqleyc3wyz52tr/residuals_261.pkl [following]\n",
            "--2023-01-19 23:27:03--  https://www.dropbox.com/s/raw/3uqleyc3wyz52tr/residuals_261.pkl\n",
            "Reusing existing connection to www.dropbox.com:443.\n",
            "HTTP request sent, awaiting response... 302 Found\n",
            "Location: https://uc16b7b4f0c2cf9df3536488af90.dl.dropboxusercontent.com/cd/0/inline/B04bucvZZoUqiKjFNYkhKUawyzw6lNM-UHv39m2Wy591CTQU6A2qjamq5EU5jTui8XnUAVPv9Iq9p8Ifnvf74TgwkEX91aFFBmz5a6wQ9CejYDN_nIIQAqIVobdrwXiB5P-BXcLAT8J-vdrWlfXr80kNPvKXJjaeQYMxOVCpcN92CA/file# [following]\n",
            "--2023-01-19 23:27:04--  https://uc16b7b4f0c2cf9df3536488af90.dl.dropboxusercontent.com/cd/0/inline/B04bucvZZoUqiKjFNYkhKUawyzw6lNM-UHv39m2Wy591CTQU6A2qjamq5EU5jTui8XnUAVPv9Iq9p8Ifnvf74TgwkEX91aFFBmz5a6wQ9CejYDN_nIIQAqIVobdrwXiB5P-BXcLAT8J-vdrWlfXr80kNPvKXJjaeQYMxOVCpcN92CA/file\n",
            "Resolving uc16b7b4f0c2cf9df3536488af90.dl.dropboxusercontent.com (uc16b7b4f0c2cf9df3536488af90.dl.dropboxusercontent.com)... 162.125.1.15, 2620:100:6016:15::a27d:10f\n",
            "Connecting to uc16b7b4f0c2cf9df3536488af90.dl.dropboxusercontent.com (uc16b7b4f0c2cf9df3536488af90.dl.dropboxusercontent.com)|162.125.1.15|:443... connected.\n",
            "HTTP request sent, awaiting response... 302 Found\n",
            "Location: /cd/0/inline2/B04LgFkQvfyTBLXBKjzbV7jicfgEYCmRtkNz70Ogl8_L4mZlB_vxGPejMTfFGjuJOaDdc_RL2B5iovp9LF4OsqljtXT8KJ1mZK0IlETBYN7ylN91AHm3Tmzgy4j7QpNoG-anP-9TPjFxkzn_tHRcsPrYSd5alfDJZcCcIydneqiEiyjkr1C4w6Q2MvJvScTX03eYS3Zm3tN4QwgBGrHVL9aNgtbUPSZhVTpuy9iC8H-k5XlueLngUldR_DN4L285QgqAQHowx3HZ-82emhODsE6Ya26YFKlJwXE5Yl6PN62y9mpf6wESiP3smwYkeksPBj0aEC8J08JiF8C28NY-2ByuL-M91_CZVc237ciQM_U0RGnk-kxVddb8zLSUkUoqXws6tVAAWygZN6uv7nN_zu0VaLGN6u-HlN3Nf1JERJLvwQ/file [following]\n",
            "--2023-01-19 23:27:04--  https://uc16b7b4f0c2cf9df3536488af90.dl.dropboxusercontent.com/cd/0/inline2/B04LgFkQvfyTBLXBKjzbV7jicfgEYCmRtkNz70Ogl8_L4mZlB_vxGPejMTfFGjuJOaDdc_RL2B5iovp9LF4OsqljtXT8KJ1mZK0IlETBYN7ylN91AHm3Tmzgy4j7QpNoG-anP-9TPjFxkzn_tHRcsPrYSd5alfDJZcCcIydneqiEiyjkr1C4w6Q2MvJvScTX03eYS3Zm3tN4QwgBGrHVL9aNgtbUPSZhVTpuy9iC8H-k5XlueLngUldR_DN4L285QgqAQHowx3HZ-82emhODsE6Ya26YFKlJwXE5Yl6PN62y9mpf6wESiP3smwYkeksPBj0aEC8J08JiF8C28NY-2ByuL-M91_CZVc237ciQM_U0RGnk-kxVddb8zLSUkUoqXws6tVAAWygZN6uv7nN_zu0VaLGN6u-HlN3Nf1JERJLvwQ/file\n",
            "Reusing existing connection to uc16b7b4f0c2cf9df3536488af90.dl.dropboxusercontent.com:443.\n",
            "HTTP request sent, awaiting response... 200 OK\n",
            "Length: 178390 (174K) [application/octet-stream]\n",
            "Saving to: ‘data/residuals_261.pkl’\n",
            "\n",
            "residuals_261.pkl   100%[===================>] 174.21K  --.-KB/s    in 0.02s   \n",
            "\n",
            "2023-01-19 23:27:04 (7.98 MB/s) - ‘data/residuals_261.pkl’ saved [178390/178390]\n",
            "\n"
          ]
        }
      ]
    },
    {
      "cell_type": "code",
      "source": [
        "df = pd.read_pickle(\"data/residuals_261.pkl\")\n",
        "df = pd.DataFrame(df.item())\n",
        "df"
      ],
      "metadata": {
        "colab": {
          "base_uri": "https://localhost:8080/",
          "height": 424
        },
        "id": "mOOAi-4MW6Vf",
        "outputId": "191aa11e-cfd3-46a0-8bfb-d9f9e53fce21"
      },
      "execution_count": 53,
      "outputs": [
        {
          "output_type": "execute_result",
          "data": {
            "text/plain": [
              "       residuals  distances\n",
              "0       1.100000       16.0\n",
              "1      -1.950000        6.3\n",
              "2      -7.200000        3.4\n",
              "3      -4.150000        8.4\n",
              "4      -6.590000        1.7\n",
              "...          ...        ...\n",
              "11126  -0.760000       14.4\n",
              "11127   0.380000        7.5\n",
              "11128   0.083333        1.7\n",
              "11129   0.166667       19.1\n",
              "11130   0.083333        2.6\n",
              "\n",
              "[11131 rows x 2 columns]"
            ],
            "text/html": [
              "\n",
              "  <div id=\"df-50afcd53-9561-40e0-be2a-3c3387101457\">\n",
              "    <div class=\"colab-df-container\">\n",
              "      <div>\n",
              "<style scoped>\n",
              "    .dataframe tbody tr th:only-of-type {\n",
              "        vertical-align: middle;\n",
              "    }\n",
              "\n",
              "    .dataframe tbody tr th {\n",
              "        vertical-align: top;\n",
              "    }\n",
              "\n",
              "    .dataframe thead th {\n",
              "        text-align: right;\n",
              "    }\n",
              "</style>\n",
              "<table border=\"1\" class=\"dataframe\">\n",
              "  <thead>\n",
              "    <tr style=\"text-align: right;\">\n",
              "      <th></th>\n",
              "      <th>residuals</th>\n",
              "      <th>distances</th>\n",
              "    </tr>\n",
              "  </thead>\n",
              "  <tbody>\n",
              "    <tr>\n",
              "      <th>0</th>\n",
              "      <td>1.100000</td>\n",
              "      <td>16.0</td>\n",
              "    </tr>\n",
              "    <tr>\n",
              "      <th>1</th>\n",
              "      <td>-1.950000</td>\n",
              "      <td>6.3</td>\n",
              "    </tr>\n",
              "    <tr>\n",
              "      <th>2</th>\n",
              "      <td>-7.200000</td>\n",
              "      <td>3.4</td>\n",
              "    </tr>\n",
              "    <tr>\n",
              "      <th>3</th>\n",
              "      <td>-4.150000</td>\n",
              "      <td>8.4</td>\n",
              "    </tr>\n",
              "    <tr>\n",
              "      <th>4</th>\n",
              "      <td>-6.590000</td>\n",
              "      <td>1.7</td>\n",
              "    </tr>\n",
              "    <tr>\n",
              "      <th>...</th>\n",
              "      <td>...</td>\n",
              "      <td>...</td>\n",
              "    </tr>\n",
              "    <tr>\n",
              "      <th>11126</th>\n",
              "      <td>-0.760000</td>\n",
              "      <td>14.4</td>\n",
              "    </tr>\n",
              "    <tr>\n",
              "      <th>11127</th>\n",
              "      <td>0.380000</td>\n",
              "      <td>7.5</td>\n",
              "    </tr>\n",
              "    <tr>\n",
              "      <th>11128</th>\n",
              "      <td>0.083333</td>\n",
              "      <td>1.7</td>\n",
              "    </tr>\n",
              "    <tr>\n",
              "      <th>11129</th>\n",
              "      <td>0.166667</td>\n",
              "      <td>19.1</td>\n",
              "    </tr>\n",
              "    <tr>\n",
              "      <th>11130</th>\n",
              "      <td>0.083333</td>\n",
              "      <td>2.6</td>\n",
              "    </tr>\n",
              "  </tbody>\n",
              "</table>\n",
              "<p>11131 rows × 2 columns</p>\n",
              "</div>\n",
              "      <button class=\"colab-df-convert\" onclick=\"convertToInteractive('df-50afcd53-9561-40e0-be2a-3c3387101457')\"\n",
              "              title=\"Convert this dataframe to an interactive table.\"\n",
              "              style=\"display:none;\">\n",
              "        \n",
              "  <svg xmlns=\"http://www.w3.org/2000/svg\" height=\"24px\"viewBox=\"0 0 24 24\"\n",
              "       width=\"24px\">\n",
              "    <path d=\"M0 0h24v24H0V0z\" fill=\"none\"/>\n",
              "    <path d=\"M18.56 5.44l.94 2.06.94-2.06 2.06-.94-2.06-.94-.94-2.06-.94 2.06-2.06.94zm-11 1L8.5 8.5l.94-2.06 2.06-.94-2.06-.94L8.5 2.5l-.94 2.06-2.06.94zm10 10l.94 2.06.94-2.06 2.06-.94-2.06-.94-.94-2.06-.94 2.06-2.06.94z\"/><path d=\"M17.41 7.96l-1.37-1.37c-.4-.4-.92-.59-1.43-.59-.52 0-1.04.2-1.43.59L10.3 9.45l-7.72 7.72c-.78.78-.78 2.05 0 2.83L4 21.41c.39.39.9.59 1.41.59.51 0 1.02-.2 1.41-.59l7.78-7.78 2.81-2.81c.8-.78.8-2.07 0-2.86zM5.41 20L4 18.59l7.72-7.72 1.47 1.35L5.41 20z\"/>\n",
              "  </svg>\n",
              "      </button>\n",
              "      \n",
              "  <style>\n",
              "    .colab-df-container {\n",
              "      display:flex;\n",
              "      flex-wrap:wrap;\n",
              "      gap: 12px;\n",
              "    }\n",
              "\n",
              "    .colab-df-convert {\n",
              "      background-color: #E8F0FE;\n",
              "      border: none;\n",
              "      border-radius: 50%;\n",
              "      cursor: pointer;\n",
              "      display: none;\n",
              "      fill: #1967D2;\n",
              "      height: 32px;\n",
              "      padding: 0 0 0 0;\n",
              "      width: 32px;\n",
              "    }\n",
              "\n",
              "    .colab-df-convert:hover {\n",
              "      background-color: #E2EBFA;\n",
              "      box-shadow: 0px 1px 2px rgba(60, 64, 67, 0.3), 0px 1px 3px 1px rgba(60, 64, 67, 0.15);\n",
              "      fill: #174EA6;\n",
              "    }\n",
              "\n",
              "    [theme=dark] .colab-df-convert {\n",
              "      background-color: #3B4455;\n",
              "      fill: #D2E3FC;\n",
              "    }\n",
              "\n",
              "    [theme=dark] .colab-df-convert:hover {\n",
              "      background-color: #434B5C;\n",
              "      box-shadow: 0px 1px 3px 1px rgba(0, 0, 0, 0.15);\n",
              "      filter: drop-shadow(0px 1px 2px rgba(0, 0, 0, 0.3));\n",
              "      fill: #FFFFFF;\n",
              "    }\n",
              "  </style>\n",
              "\n",
              "      <script>\n",
              "        const buttonEl =\n",
              "          document.querySelector('#df-50afcd53-9561-40e0-be2a-3c3387101457 button.colab-df-convert');\n",
              "        buttonEl.style.display =\n",
              "          google.colab.kernel.accessAllowed ? 'block' : 'none';\n",
              "\n",
              "        async function convertToInteractive(key) {\n",
              "          const element = document.querySelector('#df-50afcd53-9561-40e0-be2a-3c3387101457');\n",
              "          const dataTable =\n",
              "            await google.colab.kernel.invokeFunction('convertToInteractive',\n",
              "                                                     [key], {});\n",
              "          if (!dataTable) return;\n",
              "\n",
              "          const docLinkHtml = 'Like what you see? Visit the ' +\n",
              "            '<a target=\"_blank\" href=https://colab.research.google.com/notebooks/data_table.ipynb>data table notebook</a>'\n",
              "            + ' to learn more about interactive tables.';\n",
              "          element.innerHTML = '';\n",
              "          dataTable['output_type'] = 'display_data';\n",
              "          await google.colab.output.renderOutput(dataTable, element);\n",
              "          const docLink = document.createElement('div');\n",
              "          docLink.innerHTML = docLinkHtml;\n",
              "          element.appendChild(docLink);\n",
              "        }\n",
              "      </script>\n",
              "    </div>\n",
              "  </div>\n",
              "  "
            ]
          },
          "metadata": {},
          "execution_count": 53
        }
      ]
    },
    {
      "cell_type": "code",
      "source": [
        "from scipy.optimize import curve_fit\n",
        "r = df[\"residuals\"].to_numpy()\n",
        "distances = df[\"distances\"].to_numpy()\n",
        "fig,ax = plt.subplots(figsize = (8,10))\n",
        "height,bins,_ = ax.hist(r, bins = 150, range = (-15 , 15) )\n",
        "ax.errorbar(x = (bins[:-1] + bins[1:]) / 2 , y = height , yerr = np.sqrt(abs(height)) )\n",
        "def cal(x, amp, c, g, i):\n",
        "         return amp * np.exp(-(x-c)**2 / (2*g**2)) + i\n",
        "params, cov = curve_fit(cal, (bins[:-1] + bins[1:]) / 2 , len(r))\n",
        "mu, std = stats.norm.fit(r)\n",
        "init = [np.amax(r) , mu , std , 0]\n",
        "i = init\n",
        "GuessFit = cal((bins[:-1] + bins[1:]) / 2, *params)\n",
        "print(GuessFit)\n",
        "value = tuple(params)\n",
        "print(np.sum(((height - GuessFit) ** 2) / std ** 2))\n",
        "pvalue = 1. - scipy.stats.chi2.cdf(np.sum(((height - GuessFit) ** 2) / std ** 2) , len((bins[:-1] + bins[1:]) / 2) - 1 )\n",
        "print(\"pvalue = \",1. - scipy.stats.chi2.cdf(np.sum(((height - GuessFit) ** 2) / std ** 2) , len((bins[:-1] + bins[1:]) / 2) - 1))"
      ],
      "metadata": {
        "colab": {
          "base_uri": "https://localhost:8080/",
          "height": 1000
        },
        "id": "T--OlMPvXGkp",
        "outputId": "54a853b4-1e60-4fe6-f396-138d41f63b13"
      },
      "execution_count": 72,
      "outputs": [
        {
          "output_type": "stream",
          "name": "stdout",
          "text": [
            "[11131.00000092 11131.00000092 11131.00000092 11131.00000092\n",
            " 11131.00000092 11131.00000092 11131.00000091 11131.00000091\n",
            " 11131.00000091 11131.0000009  11131.0000009  11131.0000009\n",
            " 11131.00000089 11131.00000089 11131.00000089 11131.00000088\n",
            " 11131.00000088 11131.00000087 11131.00000087 11131.00000086\n",
            " 11131.00000086 11131.00000085 11131.00000085 11131.00000084\n",
            " 11131.00000083 11131.00000083 11131.00000082 11131.00000081\n",
            " 11131.0000008  11131.0000008  11131.00000079 11131.00000078\n",
            " 11131.00000077 11131.00000077 11131.00000076 11131.00000075\n",
            " 11131.00000074 11131.00000073 11131.00000072 11131.00000071\n",
            " 11131.0000007  11131.00000069 11131.00000068 11131.00000067\n",
            " 11131.00000066 11131.00000065 11131.00000063 11131.00000062\n",
            " 11131.00000061 11131.0000006  11131.00000059 11131.00000057\n",
            " 11131.00000056 11131.00000055 11131.00000054 11131.00000052\n",
            " 11131.00000051 11131.00000049 11131.00000048 11131.00000047\n",
            " 11131.00000045 11131.00000044 11131.00000042 11131.00000041\n",
            " 11131.00000039 11131.00000038 11131.00000036 11131.00000034\n",
            " 11131.00000033 11131.00000031 11131.00000029 11131.00000028\n",
            " 11131.00000026 11131.00000024 11131.00000022 11131.00000021\n",
            " 11131.00000019 11131.00000017 11131.00000015 11131.00000013\n",
            " 11131.00000011 11131.00000009 11131.00000007 11131.00000005\n",
            " 11131.00000003 11131.00000001 11130.99999999 11130.99999997\n",
            " 11130.99999995 11130.99999993 11130.99999991 11130.99999989\n",
            " 11130.99999987 11130.99999984 11130.99999982 11130.9999998\n",
            " 11130.99999978 11130.99999975 11130.99999973 11130.99999971\n",
            " 11130.99999968 11130.99999966 11130.99999963 11130.99999961\n",
            " 11130.99999959 11130.99999956 11130.99999954 11130.99999951\n",
            " 11130.99999948 11130.99999946 11130.99999943 11130.99999941\n",
            " 11130.99999938 11130.99999935 11130.99999933 11130.9999993\n",
            " 11130.99999927 11130.99999925 11130.99999922 11130.99999919\n",
            " 11130.99999916 11130.99999913 11130.9999991  11130.99999908\n",
            " 11130.99999905 11130.99999902 11130.99999899 11130.99999896\n",
            " 11130.99999893 11130.9999989  11130.99999887 11130.99999884\n",
            " 11130.99999881 11130.99999877 11130.99999874 11130.99999871\n",
            " 11130.99999868 11130.99999865 11130.99999861 11130.99999858\n",
            " 11130.99999855 11130.99999852 11130.99999848 11130.99999845\n",
            " 11130.99999842 11130.99999838 11130.99999835 11130.99999831\n",
            " 11130.99999828 11130.99999824]\n",
            "1059103798.34873\n",
            "pvalue =  0.0\n"
          ]
        },
        {
          "output_type": "display_data",
          "data": {
            "text/plain": [
              "<Figure size 576x720 with 1 Axes>"
            ],
            "image/png": "[encoded data removed]"
          },
          "metadata": {
            "needs_background": "light"
          }
        }
      ]
    },
    {
      "cell_type": "markdown",
      "source": [
        "ex5"
      ],
      "metadata": {
        "id": "q_Vdo7gwbgNb"
      }
    },
    {
      "cell_type": "code",
      "source": [
        "!wget https://www.dropbox.com/s/7gy9yjl00ymxb8h/munich_temperatures_average_with_bad_data.txt"
      ],
      "metadata": {
        "colab": {
          "base_uri": "https://localhost:8080/"
        },
        "id": "XfqsbojPbfsN",
        "outputId": "2783d4e9-4902-4dc0-a41e-66c1af3d220c"
      },
      "execution_count": 73,
      "outputs": [
        {
          "output_type": "stream",
          "name": "stdout",
          "text": [
            "--2023-01-19 23:47:24--  https://www.dropbox.com/s/7gy9yjl00ymxb8h/munich_temperatures_average_with_bad_data.txt\n",
            "Resolving www.dropbox.com (www.dropbox.com)... 162.125.1.18, 2620:100:6016:18::a27d:112\n",
            "Connecting to www.dropbox.com (www.dropbox.com)|162.125.1.18|:443... connected.\n",
            "HTTP request sent, awaiting response... 302 Found\n",
            "Location: /s/raw/7gy9yjl00ymxb8h/munich_temperatures_average_with_bad_data.txt [following]\n",
            "--2023-01-19 23:47:25--  https://www.dropbox.com/s/raw/7gy9yjl00ymxb8h/munich_temperatures_average_with_bad_data.txt\n",
            "Reusing existing connection to www.dropbox.com:443.\n",
            "HTTP request sent, awaiting response... 302 Found\n",
            "Location: https://uc0eb86ede037922d8c670ce83f3.dl.dropboxusercontent.com/cd/0/inline/B05SMCoo41UvyE9QL9uRbmKjlOa6WpiBsgftu3C2PtjvGdAtfCbnQOl8gvWbc7tNNkJB8DXOKMhs01DB5l4-espQWinKEd1se135ZmM7so3ucch8e2u6Tej7Vg0XMN6P7VFagGWTEN_PuJq47Fc7QE_2Y0hXLSkqYXzzQXBIRQgeEA/file# [following]\n",
            "--2023-01-19 23:47:25--  https://uc0eb86ede037922d8c670ce83f3.dl.dropboxusercontent.com/cd/0/inline/B05SMCoo41UvyE9QL9uRbmKjlOa6WpiBsgftu3C2PtjvGdAtfCbnQOl8gvWbc7tNNkJB8DXOKMhs01DB5l4-espQWinKEd1se135ZmM7so3ucch8e2u6Tej7Vg0XMN6P7VFagGWTEN_PuJq47Fc7QE_2Y0hXLSkqYXzzQXBIRQgeEA/file\n",
            "Resolving uc0eb86ede037922d8c670ce83f3.dl.dropboxusercontent.com (uc0eb86ede037922d8c670ce83f3.dl.dropboxusercontent.com)... 162.125.1.15, 2620:100:6016:15::a27d:10f\n",
            "Connecting to uc0eb86ede037922d8c670ce83f3.dl.dropboxusercontent.com (uc0eb86ede037922d8c670ce83f3.dl.dropboxusercontent.com)|162.125.1.15|:443... connected.\n",
            "HTTP request sent, awaiting response... 200 OK\n",
            "Length: 125482 (123K) [text/plain]\n",
            "Saving to: ‘munich_temperatures_average_with_bad_data.txt’\n",
            "\n",
            "munich_temperatures 100%[===================>] 122.54K  --.-KB/s    in 0.02s   \n",
            "\n",
            "2023-01-19 23:47:25 (6.20 MB/s) - ‘munich_temperatures_average_with_bad_data.txt’ saved [125482/125482]\n",
            "\n"
          ]
        }
      ]
    },
    {
      "cell_type": "code",
      "source": [
        "columns = [\"Dates\" , \"Temperatures\"] \n",
        "df = pd.read_csv(\"munich_temperatures_average_with_bad_data.txt\" , sep = \"\\s+\")\n",
        "df.columns = [\"Year\", \"Temperature\"]\n",
        "df"
      ],
      "metadata": {
        "colab": {
          "base_uri": "https://localhost:8080/",
          "height": 424
        },
        "id": "kwgaYCptbkHc",
        "outputId": "190f7f52-e6f8-4496-ec9b-3936460674cb"
      },
      "execution_count": 74,
      "outputs": [
        {
          "output_type": "execute_result",
          "data": {
            "text/plain": [
              "            Year  Temperature\n",
              "0     1995.00548     -1.61111\n",
              "1     1995.00821     -3.55556\n",
              "2     1995.01095     -9.83333\n",
              "3     1995.01369    -10.22220\n",
              "4     1995.01643     -9.50000\n",
              "...          ...          ...\n",
              "6673  2013.27379      7.33333\n",
              "6674  2013.27652     10.00000\n",
              "6675  2013.27926     10.55560\n",
              "6676  2013.28200      8.94444\n",
              "6677  2013.28474     11.16670\n",
              "\n",
              "[6678 rows x 2 columns]"
            ],
            "text/html": [
              "\n",
              "  <div id=\"df-289c50c2-4783-4161-af0d-a15dbd2e8129\">\n",
              "    <div class=\"colab-df-container\">\n",
              "      <div>\n",
              "<style scoped>\n",
              "    .dataframe tbody tr th:only-of-type {\n",
              "        vertical-align: middle;\n",
              "    }\n",
              "\n",
              "    .dataframe tbody tr th {\n",
              "        vertical-align: top;\n",
              "    }\n",
              "\n",
              "    .dataframe thead th {\n",
              "        text-align: right;\n",
              "    }\n",
              "</style>\n",
              "<table border=\"1\" class=\"dataframe\">\n",
              "  <thead>\n",
              "    <tr style=\"text-align: right;\">\n",
              "      <th></th>\n",
              "      <th>Year</th>\n",
              "      <th>Temperature</th>\n",
              "    </tr>\n",
              "  </thead>\n",
              "  <tbody>\n",
              "    <tr>\n",
              "      <th>0</th>\n",
              "      <td>1995.00548</td>\n",
              "      <td>-1.61111</td>\n",
              "    </tr>\n",
              "    <tr>\n",
              "      <th>1</th>\n",
              "      <td>1995.00821</td>\n",
              "      <td>-3.55556</td>\n",
              "    </tr>\n",
              "    <tr>\n",
              "      <th>2</th>\n",
              "      <td>1995.01095</td>\n",
              "      <td>-9.83333</td>\n",
              "    </tr>\n",
              "    <tr>\n",
              "      <th>3</th>\n",
              "      <td>1995.01369</td>\n",
              "      <td>-10.22220</td>\n",
              "    </tr>\n",
              "    <tr>\n",
              "      <th>4</th>\n",
              "      <td>1995.01643</td>\n",
              "      <td>-9.50000</td>\n",
              "    </tr>\n",
              "    <tr>\n",
              "      <th>...</th>\n",
              "      <td>...</td>\n",
              "      <td>...</td>\n",
              "    </tr>\n",
              "    <tr>\n",
              "      <th>6673</th>\n",
              "      <td>2013.27379</td>\n",
              "      <td>7.33333</td>\n",
              "    </tr>\n",
              "    <tr>\n",
              "      <th>6674</th>\n",
              "      <td>2013.27652</td>\n",
              "      <td>10.00000</td>\n",
              "    </tr>\n",
              "    <tr>\n",
              "      <th>6675</th>\n",
              "      <td>2013.27926</td>\n",
              "      <td>10.55560</td>\n",
              "    </tr>\n",
              "    <tr>\n",
              "      <th>6676</th>\n",
              "      <td>2013.28200</td>\n",
              "      <td>8.94444</td>\n",
              "    </tr>\n",
              "    <tr>\n",
              "      <th>6677</th>\n",
              "      <td>2013.28474</td>\n",
              "      <td>11.16670</td>\n",
              "    </tr>\n",
              "  </tbody>\n",
              "</table>\n",
              "<p>6678 rows × 2 columns</p>\n",
              "</div>\n",
              "      <button class=\"colab-df-convert\" onclick=\"convertToInteractive('df-289c50c2-4783-4161-af0d-a15dbd2e8129')\"\n",
              "              title=\"Convert this dataframe to an interactive table.\"\n",
              "              style=\"display:none;\">\n",
              "        \n",
              "  <svg xmlns=\"http://www.w3.org/2000/svg\" height=\"24px\"viewBox=\"0 0 24 24\"\n",
              "       width=\"24px\">\n",
              "    <path d=\"M0 0h24v24H0V0z\" fill=\"none\"/>\n",
              "    <path d=\"M18.56 5.44l.94 2.06.94-2.06 2.06-.94-2.06-.94-.94-2.06-.94 2.06-2.06.94zm-11 1L8.5 8.5l.94-2.06 2.06-.94-2.06-.94L8.5 2.5l-.94 2.06-2.06.94zm10 10l.94 2.06.94-2.06 2.06-.94-2.06-.94-.94-2.06-.94 2.06-2.06.94z\"/><path d=\"M17.41 7.96l-1.37-1.37c-.4-.4-.92-.59-1.43-.59-.52 0-1.04.2-1.43.59L10.3 9.45l-7.72 7.72c-.78.78-.78 2.05 0 2.83L4 21.41c.39.39.9.59 1.41.59.51 0 1.02-.2 1.41-.59l7.78-7.78 2.81-2.81c.8-.78.8-2.07 0-2.86zM5.41 20L4 18.59l7.72-7.72 1.47 1.35L5.41 20z\"/>\n",
              "  </svg>\n",
              "      </button>\n",
              "      \n",
              "  <style>\n",
              "    .colab-df-container {\n",
              "      display:flex;\n",
              "      flex-wrap:wrap;\n",
              "      gap: 12px;\n",
              "    }\n",
              "\n",
              "    .colab-df-convert {\n",
              "      background-color: #E8F0FE;\n",
              "      border: none;\n",
              "      border-radius: 50%;\n",
              "      cursor: pointer;\n",
              "      display: none;\n",
              "      fill: #1967D2;\n",
              "      height: 32px;\n",
              "      padding: 0 0 0 0;\n",
              "      width: 32px;\n",
              "    }\n",
              "\n",
              "    .colab-df-convert:hover {\n",
              "      background-color: #E2EBFA;\n",
              "      box-shadow: 0px 1px 2px rgba(60, 64, 67, 0.3), 0px 1px 3px 1px rgba(60, 64, 67, 0.15);\n",
              "      fill: #174EA6;\n",
              "    }\n",
              "\n",
              "    [theme=dark] .colab-df-convert {\n",
              "      background-color: #3B4455;\n",
              "      fill: #D2E3FC;\n",
              "    }\n",
              "\n",
              "    [theme=dark] .colab-df-convert:hover {\n",
              "      background-color: #434B5C;\n",
              "      box-shadow: 0px 1px 3px 1px rgba(0, 0, 0, 0.15);\n",
              "      filter: drop-shadow(0px 1px 2px rgba(0, 0, 0, 0.3));\n",
              "      fill: #FFFFFF;\n",
              "    }\n",
              "  </style>\n",
              "\n",
              "      <script>\n",
              "        const buttonEl =\n",
              "          document.querySelector('#df-289c50c2-4783-4161-af0d-a15dbd2e8129 button.colab-df-convert');\n",
              "        buttonEl.style.display =\n",
              "          google.colab.kernel.accessAllowed ? 'block' : 'none';\n",
              "\n",
              "        async function convertToInteractive(key) {\n",
              "          const element = document.querySelector('#df-289c50c2-4783-4161-af0d-a15dbd2e8129');\n",
              "          const dataTable =\n",
              "            await google.colab.kernel.invokeFunction('convertToInteractive',\n",
              "                                                     [key], {});\n",
              "          if (!dataTable) return;\n",
              "\n",
              "          const docLinkHtml = 'Like what you see? Visit the ' +\n",
              "            '<a target=\"_blank\" href=https://colab.research.google.com/notebooks/data_table.ipynb>data table notebook</a>'\n",
              "            + ' to learn more about interactive tables.';\n",
              "          element.innerHTML = '';\n",
              "          dataTable['output_type'] = 'display_data';\n",
              "          await google.colab.output.renderOutput(dataTable, element);\n",
              "          const docLink = document.createElement('div');\n",
              "          docLink.innerHTML = docLinkHtml;\n",
              "          element.appendChild(docLink);\n",
              "        }\n",
              "      </script>\n",
              "    </div>\n",
              "  </div>\n",
              "  "
            ]
          },
          "metadata": {},
          "execution_count": 74
        }
      ]
    }
  ]
}